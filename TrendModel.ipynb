{
  "nbformat": 4,
  "nbformat_minor": 0,
  "metadata": {
    "colab": {
      "name": "TrendModel.ipynb",
      "provenance": [],
      "collapsed_sections": [],
      "authorship_tag": "ABX9TyOyWhxZHxiVeb0W3FK0FatS",
      "include_colab_link": true
    },
    "kernelspec": {
      "name": "python3",
      "display_name": "Python 3"
    }
  },
  "cells": [
    {
      "cell_type": "markdown",
      "metadata": {
        "id": "view-in-github",
        "colab_type": "text"
      },
      "source": [
        "<a href=\"https://colab.research.google.com/github/ShuichiroTsuda/TrendModel/blob/main/TrendModel.ipynb\" target=\"_parent\"><img src=\"https://colab.research.google.com/assets/colab-badge.svg\" alt=\"Open In Colab\"/></a>"
      ]
    },
    {
      "cell_type": "code",
      "metadata": {
        "colab": {
          "base_uri": "https://localhost:8080/"
        },
        "id": "SI6Zm_BDUnmF",
        "outputId": "3bc0a045-c2e8-473b-ab4e-aaeee378cf39"
      },
      "source": [
        "!pip install pytrends"
      ],
      "execution_count": 2,
      "outputs": [
        {
          "output_type": "stream",
          "text": [
            "Collecting pytrends\n",
            "  Downloading https://files.pythonhosted.org/packages/96/53/a4a74c33bfdbe1740183e00769377352072e64182913562daf9f5e4f1938/pytrends-4.7.3-py3-none-any.whl\n",
            "Requirement already satisfied: requests in /usr/local/lib/python3.6/dist-packages (from pytrends) (2.23.0)\n",
            "Requirement already satisfied: pandas>=0.25 in /usr/local/lib/python3.6/dist-packages (from pytrends) (1.1.5)\n",
            "Requirement already satisfied: lxml in /usr/local/lib/python3.6/dist-packages (from pytrends) (4.2.6)\n",
            "Requirement already satisfied: certifi>=2017.4.17 in /usr/local/lib/python3.6/dist-packages (from requests->pytrends) (2020.12.5)\n",
            "Requirement already satisfied: chardet<4,>=3.0.2 in /usr/local/lib/python3.6/dist-packages (from requests->pytrends) (3.0.4)\n",
            "Requirement already satisfied: urllib3!=1.25.0,!=1.25.1,<1.26,>=1.21.1 in /usr/local/lib/python3.6/dist-packages (from requests->pytrends) (1.24.3)\n",
            "Requirement already satisfied: idna<3,>=2.5 in /usr/local/lib/python3.6/dist-packages (from requests->pytrends) (2.10)\n",
            "Requirement already satisfied: python-dateutil>=2.7.3 in /usr/local/lib/python3.6/dist-packages (from pandas>=0.25->pytrends) (2.8.1)\n",
            "Requirement already satisfied: pytz>=2017.2 in /usr/local/lib/python3.6/dist-packages (from pandas>=0.25->pytrends) (2018.9)\n",
            "Requirement already satisfied: numpy>=1.15.4 in /usr/local/lib/python3.6/dist-packages (from pandas>=0.25->pytrends) (1.18.5)\n",
            "Requirement already satisfied: six>=1.5 in /usr/local/lib/python3.6/dist-packages (from python-dateutil>=2.7.3->pandas>=0.25->pytrends) (1.15.0)\n",
            "Installing collected packages: pytrends\n",
            "Successfully installed pytrends-4.7.3\n"
          ],
          "name": "stdout"
        }
      ]
    },
    {
      "cell_type": "code",
      "metadata": {
        "id": "JhFpNHxmVWPA"
      },
      "source": [
        "import pandas as pd                        \n",
        "from pytrends.request import TrendReq\n",
        "import numpy as np\n",
        "from scipy.optimize import minimize, basinhopping\n",
        "import matplotlib.pyplot as plt\n",
        "import pandas as pd\n",
        "\n",
        "%matplotlib inline\n",
        "\n",
        "pytrend = TrendReq(hl='ja-jp')"
      ],
      "execution_count": 2,
      "outputs": []
    },
    {
      "cell_type": "markdown",
      "metadata": {
        "id": "N_fUdcn5VSC0"
      },
      "source": [
        "## データダウンロード\n"
      ]
    },
    {
      "cell_type": "code",
      "metadata": {
        "id": "WXTP0mcvVY4O"
      },
      "source": [
        "keywords = ['倍返しだ']\n",
        "pytrend.build_payload(kw_list=keywords, timeframe='2013-06-01 2014-06-30')\n",
        "df = pd.DataFrame(pytrend.interest_over_time())"
      ],
      "execution_count": 75,
      "outputs": []
    },
    {
      "cell_type": "code",
      "metadata": {
        "id": "CGLEE3znj97M"
      },
      "source": [
        "keywords = ['君の名は']\n",
        "pytrend.build_payload(kw_list=keywords, timeframe='2016-08-12 2016-12-01')\n",
        "df = pd.DataFrame(pytrend.interest_over_time())"
      ],
      "execution_count": 106,
      "outputs": []
    },
    {
      "cell_type": "code",
      "metadata": {
        "id": "iws3PYjPfjnu"
      },
      "source": [
        "df[\"rolling\"] = df['君の名は'].rolling(10).mean()\n",
        "df = df.dropna(subset=['rolling'])"
      ],
      "execution_count": 107,
      "outputs": []
    },
    {
      "cell_type": "code",
      "metadata": {
        "id": "wSlbysrBgBQs"
      },
      "source": [
        "df['rolling'] = df['rolling'] / np.max(df['rolling'])"
      ],
      "execution_count": 108,
      "outputs": []
    },
    {
      "cell_type": "code",
      "metadata": {
        "colab": {
          "base_uri": "https://localhost:8080/",
          "height": 450
        },
        "id": "ufkRfxsFWF4p",
        "outputId": "d95fad21-49ad-4c7e-88b2-a2c7730449c7"
      },
      "source": [
        "df"
      ],
      "execution_count": 109,
      "outputs": [
        {
          "output_type": "execute_result",
          "data": {
            "text/html": [
              "<div>\n",
              "<style scoped>\n",
              "    .dataframe tbody tr th:only-of-type {\n",
              "        vertical-align: middle;\n",
              "    }\n",
              "\n",
              "    .dataframe tbody tr th {\n",
              "        vertical-align: top;\n",
              "    }\n",
              "\n",
              "    .dataframe thead th {\n",
              "        text-align: right;\n",
              "    }\n",
              "</style>\n",
              "<table border=\"1\" class=\"dataframe\">\n",
              "  <thead>\n",
              "    <tr style=\"text-align: right;\">\n",
              "      <th></th>\n",
              "      <th>君の名は</th>\n",
              "      <th>isPartial</th>\n",
              "      <th>rolling</th>\n",
              "    </tr>\n",
              "    <tr>\n",
              "      <th>date</th>\n",
              "      <th></th>\n",
              "      <th></th>\n",
              "      <th></th>\n",
              "    </tr>\n",
              "  </thead>\n",
              "  <tbody>\n",
              "    <tr>\n",
              "      <th>2016-08-21</th>\n",
              "      <td>15</td>\n",
              "      <td>False</td>\n",
              "      <td>0.105263</td>\n",
              "    </tr>\n",
              "    <tr>\n",
              "      <th>2016-08-22</th>\n",
              "      <td>14</td>\n",
              "      <td>False</td>\n",
              "      <td>0.118065</td>\n",
              "    </tr>\n",
              "    <tr>\n",
              "      <th>2016-08-23</th>\n",
              "      <td>17</td>\n",
              "      <td>False</td>\n",
              "      <td>0.135135</td>\n",
              "    </tr>\n",
              "    <tr>\n",
              "      <th>2016-08-24</th>\n",
              "      <td>18</td>\n",
              "      <td>False</td>\n",
              "      <td>0.152205</td>\n",
              "    </tr>\n",
              "    <tr>\n",
              "      <th>2016-08-25</th>\n",
              "      <td>25</td>\n",
              "      <td>False</td>\n",
              "      <td>0.180654</td>\n",
              "    </tr>\n",
              "    <tr>\n",
              "      <th>...</th>\n",
              "      <td>...</td>\n",
              "      <td>...</td>\n",
              "      <td>...</td>\n",
              "    </tr>\n",
              "    <tr>\n",
              "      <th>2016-11-27</th>\n",
              "      <td>29</td>\n",
              "      <td>False</td>\n",
              "      <td>0.305832</td>\n",
              "    </tr>\n",
              "    <tr>\n",
              "      <th>2016-11-28</th>\n",
              "      <td>23</td>\n",
              "      <td>False</td>\n",
              "      <td>0.312945</td>\n",
              "    </tr>\n",
              "    <tr>\n",
              "      <th>2016-11-29</th>\n",
              "      <td>16</td>\n",
              "      <td>False</td>\n",
              "      <td>0.300142</td>\n",
              "    </tr>\n",
              "    <tr>\n",
              "      <th>2016-11-30</th>\n",
              "      <td>14</td>\n",
              "      <td>False</td>\n",
              "      <td>0.287340</td>\n",
              "    </tr>\n",
              "    <tr>\n",
              "      <th>2016-12-01</th>\n",
              "      <td>17</td>\n",
              "      <td>False</td>\n",
              "      <td>0.288762</td>\n",
              "    </tr>\n",
              "  </tbody>\n",
              "</table>\n",
              "<p>103 rows × 3 columns</p>\n",
              "</div>"
            ],
            "text/plain": [
              "            君の名は  isPartial   rolling\n",
              "date                                 \n",
              "2016-08-21    15      False  0.105263\n",
              "2016-08-22    14      False  0.118065\n",
              "2016-08-23    17      False  0.135135\n",
              "2016-08-24    18      False  0.152205\n",
              "2016-08-25    25      False  0.180654\n",
              "...          ...        ...       ...\n",
              "2016-11-27    29      False  0.305832\n",
              "2016-11-28    23      False  0.312945\n",
              "2016-11-29    16      False  0.300142\n",
              "2016-11-30    14      False  0.287340\n",
              "2016-12-01    17      False  0.288762\n",
              "\n",
              "[103 rows x 3 columns]"
            ]
          },
          "metadata": {
            "tags": []
          },
          "execution_count": 109
        }
      ]
    },
    {
      "cell_type": "code",
      "metadata": {
        "colab": {
          "base_uri": "https://localhost:8080/",
          "height": 282
        },
        "id": "ctavD-psaADK",
        "outputId": "de002813-5065-4f4e-8e87-2c822265b923"
      },
      "source": [
        "plt.plot(df['rolling'])\n"
      ],
      "execution_count": 110,
      "outputs": [
        {
          "output_type": "execute_result",
          "data": {
            "text/plain": [
              "[<matplotlib.lines.Line2D at 0x7f0e040e62b0>]"
            ]
          },
          "metadata": {
            "tags": []
          },
          "execution_count": 110
        },
        {
          "output_type": "display_data",
          "data": {
            "image/png": "[encoded data removed]",
            "text/plain": [
              "<Figure size 432x288 with 1 Axes>"
            ]
          },
          "metadata": {
            "tags": [],
            "needs_background": "light"
          }
        }
      ]
    },
    {
      "cell_type": "markdown",
      "metadata": {
        "id": "ZAofR_w93riX"
      },
      "source": [
        "## モデル定義"
      ]
    },
    {
      "cell_type": "code",
      "metadata": {
        "id": "by0FNwnXcbZV"
      },
      "source": [
        "def model1(pars, T, DT=1E-2, init = (1.0, 0., 0.0, 0.)):\n",
        "    def model1_diff(Y):\n",
        "        y1, y2, y3, y4 = Y\n",
        "        return np.array([-pars[0]*y1, pars[0]*y1-(pars[1]+pars[2])*y2, pars[1]*y2, pars[2]*y2])\n",
        "    # 時点集合\n",
        "    t_set = np.linspace(0.0, T, int(T/DT) + 1)\n",
        "    # SIRの各状態を格納する行列\n",
        "    X = np.zeros((len(t_set),4),dtype='float')\n",
        "    # 初期値から順に増分を加えることで状態変数を生成\n",
        "    X[0] = init\n",
        "    for tid, f in enumerate(t_set[:-1]):\n",
        "        X[tid+1] = X[tid] + model1_diff(X[tid])*DT\n",
        "    return X, t_set"
      ],
      "execution_count": 134,
      "outputs": []
    },
    {
      "cell_type": "code",
      "metadata": {
        "id": "b9TAA9UWKy0n"
      },
      "source": [
        "def model1_standardized(pars, T, DT=1E-2, init = (0.97, 0.01, 0.01, 0.01)):\n",
        "    def model1_diff(Y):\n",
        "        y1, y2, y3, y4 = Y\n",
        "        return np.array([-pars[0]*y1, pars[0]*y1-(pars[1]+pars[2])*y2, pars[1]*y2, pars[2]*y2])\n",
        "    # 時点集合\n",
        "    t_set = np.linspace(0.0, T, int(T/DT) + 1)\n",
        "    # SIRの各状態を格納する行列\n",
        "    X = np.zeros((len(t_set),4),dtype='float')\n",
        "    # 初期値から順に増分を加えることで状態変数を生成\n",
        "    X[0] = init\n",
        "    for tid, f in enumerate(t_set[:-1]):\n",
        "        X[tid+1] = X[tid] + model1_diff(X[tid])*DT\n",
        "    X = X / np.max(X[:,1]+X[:,3])\n",
        "    return X, t_set"
      ],
      "execution_count": 201,
      "outputs": []
    },
    {
      "cell_type": "code",
      "metadata": {
        "id": "JFolRrxJtL2i"
      },
      "source": [
        "def model2(pars, T, DT=1E-2, init = (1.0, 0., 0.0, 0.)):\r\n",
        "    def model1_diff(Y):\r\n",
        "        y1, y2, y3, y4 = Y\r\n",
        "        return np.array([-pars[0]*y1*y2, pars[0]*y1*y2-(pars[1]+pars[2])*y2, pars[1]*y2, pars[2]*y2])\r\n",
        "    # 時点集合\r\n",
        "    t_set = np.linspace(0.0, T, int(T/DT) + 1)\r\n",
        "    # SIRの各状態を格納する行列\r\n",
        "    X = np.zeros((len(t_set),4),dtype='float')\r\n",
        "    # 初期値から順に増分を加えることで状態変数を生成\r\n",
        "    X[0] = init\r\n",
        "    for tid, f in enumerate(t_set[:-1]):\r\n",
        "        X[tid+1] = X[tid] + model1_diff(X[tid])*DT\r\n",
        "    return X, t_set"
      ],
      "execution_count": 136,
      "outputs": []
    },
    {
      "cell_type": "code",
      "metadata": {
        "id": "Gw6jOigZLMu0"
      },
      "source": [
        "def model2_standardized(pars, T, DT=1E-2, init = (0.97, 0.01, 0.10, 0.01)):\n",
        "    def model1_diff(Y):\n",
        "        y1, y2, y3, y4 = Y\n",
        "        return np.array([-pars[0]*y1*y2, pars[0]*y1*y2-(pars[1]+pars[2])*y2, pars[1]*y2, pars[2]*y2])\n",
        "    # 時点集合\n",
        "    t_set = np.linspace(0.0, T, int(T/DT) + 1)\n",
        "    # SIRの各状態を格納する行列\n",
        "    X = np.zeros((len(t_set),4),dtype='float')\n",
        "    # 初期値から順に増分を加えることで状態変数を生成\n",
        "    X[0] = init\n",
        "    for tid, f in enumerate(t_set[:-1]):\n",
        "        X[tid+1] = X[tid] + model1_diff(X[tid])*DT\n",
        "    X = X / np.max(X[:,1]+X[:,3])\n",
        "    return X, t_set"
      ],
      "execution_count": 202,
      "outputs": []
    },
    {
      "cell_type": "markdown",
      "metadata": {
        "id": "s4wmDinW30-x"
      },
      "source": [
        "## 二乗平均誤差"
      ]
    },
    {
      "cell_type": "code",
      "metadata": {
        "id": "aVVrMfVqL1ew"
      },
      "source": [
        "def rmse1(pars,obs,init = (0.97, 0.01, 0.01, 0.01)):\r\n",
        "    Y, t_set = model1_standardized(pars, len(obs))\r\n",
        "    Y = Y[t_set >= 1]\r\n",
        "    t_set = t_set[t_set>=1]\r\n",
        "    y1 = Y[t_set%1==0, 0]\r\n",
        "    y2 = Y[t_set%1==0, 1]\r\n",
        "    y3 = Y[t_set%1==0, 2]\r\n",
        "    y4 = Y[t_set%1==0, 3]\r\n",
        "    ret = np.sqrt(np.average((obs - y2 - y4)**2))\r\n",
        "    return ret"
      ],
      "execution_count": 203,
      "outputs": []
    },
    {
      "cell_type": "code",
      "metadata": {
        "id": "mq0jayNJtizL"
      },
      "source": [
        "def rmse2(pars,obs,init = (0.97, 0.01, 0.01, 0.01)):\r\n",
        "    Y, t_set = model2_standardized(pars, len(obs))\r\n",
        "    Y = Y[t_set >= 1]\r\n",
        "    t_set = t_set[t_set>=1]\r\n",
        "    y1 = Y[t_set%1==0, 0]\r\n",
        "    y2 = Y[t_set%1==0, 1]\r\n",
        "    y3 = Y[t_set%1==0, 2]\r\n",
        "    y4 = Y[t_set%1==0, 3]\r\n",
        "    ret = np.sqrt(np.average((obs - y2 - y4)**2))\r\n",
        "    return ret"
      ],
      "execution_count": 204,
      "outputs": []
    },
    {
      "cell_type": "code",
      "metadata": {
        "id": "bJLsgrGNWQvO"
      },
      "source": [
        "a = df['rolling']\n",
        "opt = basinhopping(rmse2, [1, 1, 1], minimizer_kwargs={\"args\": a, \"method\": \"L-BFGS-B\"})"
      ],
      "execution_count": 181,
      "outputs": []
    },
    {
      "cell_type": "code",
      "metadata": {
        "colab": {
          "base_uri": "https://localhost:8080/",
          "height": 265
        },
        "id": "BdnvlneVQ9Ad",
        "outputId": "605a2ac4-527a-4397-a7af-0294c4d15074"
      },
      "source": [
        "pars = [0.07146819,  0.02392529, -0.00319135]\r\n",
        "#pars = [ 2.623176 , 5.11777424, 20.04359523]\r\n",
        "T = 50\r\n",
        "X, t_set = model1_standardized(pars, T)\r\n",
        "fig, ax = plt.subplots()\r\n",
        "labels = [\"y1\", \"y2\", \"y3\", \"y4\"]\r\n",
        "for i in range(4):\r\n",
        "    ax.plot(X[:,i], label=labels[i])"
      ],
      "execution_count": 205,
      "outputs": [
        {
          "output_type": "display_data",
          "data": {
            "image/png": "[encoded data removed]",
            "text/plain": [
              "<Figure size 432x288 with 1 Axes>"
            ]
          },
          "metadata": {
            "tags": [],
            "needs_background": "light"
          }
        }
      ]
    },
    {
      "cell_type": "code",
      "metadata": {
        "colab": {
          "base_uri": "https://localhost:8080/",
          "height": 282
        },
        "id": "Xk1mmpvGpW4z",
        "outputId": "55f2ff68-3ea7-4612-a206-7a525022ce3b"
      },
      "source": [
        "plt.plot(X[:,1]+X[:,3])"
      ],
      "execution_count": 206,
      "outputs": [
        {
          "output_type": "execute_result",
          "data": {
            "text/plain": [
              "[<matplotlib.lines.Line2D at 0x7f0e03763c88>]"
            ]
          },
          "metadata": {
            "tags": []
          },
          "execution_count": 206
        },
        {
          "output_type": "display_data",
          "data": {
            "image/png": "[encoded data removed]",
            "text/plain": [
              "<Figure size 432x288 with 1 Axes>"
            ]
          },
          "metadata": {
            "tags": [],
            "needs_background": "light"
          }
        }
      ]
    },
    {
      "cell_type": "code",
      "metadata": {
        "colab": {
          "base_uri": "https://localhost:8080/",
          "height": 265
        },
        "id": "wqhtY-rs5GJp",
        "outputId": "d4414c59-5d17-4e82-af9b-3032badd0dab"
      },
      "source": [
        "pars = [-3.537426  ,  4.55196085,  0.98341788]\n",
        "#pars = [ 2.623176 , 5.11777424, 20.04359523]\n",
        "T = 5\n",
        "X, t_set = model2_standardized(pars, T)\n",
        "fig, ax = plt.subplots()\n",
        "labels = [\"y1\", \"y2\", \"y3\", \"y4\"]\n",
        "for i in range(4):\n",
        "    ax.plot(X[:,i], label=labels[i])"
      ],
      "execution_count": 207,
      "outputs": [
        {
          "output_type": "display_data",
          "data": {
            "image/png": "[encoded data removed]",
            "text/plain": [
              "<Figure size 432x288 with 1 Axes>"
            ]
          },
          "metadata": {
            "tags": [],
            "needs_background": "light"
          }
        }
      ]
    },
    {
      "cell_type": "code",
      "metadata": {
        "colab": {
          "base_uri": "https://localhost:8080/",
          "height": 282
        },
        "id": "uUIy_iHR6Tjp",
        "outputId": "05d28d81-fd5f-4fbe-cd24-c179719702ea"
      },
      "source": [
        "plt.plot(X[:,1]+X[:,3])"
      ],
      "execution_count": 198,
      "outputs": [
        {
          "output_type": "execute_result",
          "data": {
            "text/plain": [
              "[<matplotlib.lines.Line2D at 0x7f0e03a3ae10>]"
            ]
          },
          "metadata": {
            "tags": []
          },
          "execution_count": 198
        },
        {
          "output_type": "display_data",
          "data": {
            "image/png": "[encoded data removed]",
            "text/plain": [
              "<Figure size 432x288 with 1 Axes>"
            ]
          },
          "metadata": {
            "tags": [],
            "needs_background": "light"
          }
        }
      ]
    },
    {
      "cell_type": "code",
      "metadata": {
        "id": "GOV6z4TAbiGJ"
      },
      "source": [
        "a = df['rolling']\r\n",
        "opt = minimize(rmse2, [0.1, 0.8, 0.01], args=(a))"
      ],
      "execution_count": 195,
      "outputs": []
    },
    {
      "cell_type": "code",
      "metadata": {
        "colab": {
          "base_uri": "https://localhost:8080/"
        },
        "id": "qO4-YPhWmy_N",
        "outputId": "8e07df8e-0c4d-4d7c-837c-2a0528803def"
      },
      "source": [
        "opt"
      ],
      "execution_count": 196,
      "outputs": [
        {
          "output_type": "execute_result",
          "data": {
            "text/plain": [
              "      fun: 0.2607786365900205\n",
              " hess_inv: array([[ 178501.48695209, -184120.30692113,  -47745.04823468],\n",
              "       [-184120.30692113,  189918.05848869,   49248.22959083],\n",
              "       [ -47745.04823468,   49248.22959083,   12771.86797659]])\n",
              "      jac: array([-4.20957804e-07,  4.32133675e-07, -3.53157520e-06])\n",
              "  message: 'Optimization terminated successfully.'\n",
              "     nfev: 110\n",
              "      nit: 21\n",
              "     njev: 22\n",
              "   status: 0\n",
              "  success: True\n",
              "        x: array([-3.537426  ,  4.55196085,  0.98341788])"
            ]
          },
          "metadata": {
            "tags": []
          },
          "execution_count": 196
        }
      ]
    },
    {
      "cell_type": "code",
      "metadata": {
        "colab": {
          "base_uri": "https://localhost:8080/"
        },
        "id": "g-Zw26IGYKEZ",
        "outputId": "e001aac3-3efd-4b24-a0a5-a3db9bae62c0"
      },
      "source": [
        "opt"
      ],
      "execution_count": 182,
      "outputs": [
        {
          "output_type": "execute_result",
          "data": {
            "text/plain": [
              "                        fun: 0.26077863678444074\n",
              " lowest_optimization_result:       fun: 0.26077863678444074\n",
              " hess_inv: <3x3 LbfgsInvHessProduct with dtype=float64>\n",
              "      jac: array([ 9.43689571e-08, -1.05471187e-07,  7.93809463e-07])\n",
              "  message: b'CONVERGENCE: NORM_OF_PROJECTED_GRADIENT_<=_PGTOL'\n",
              "     nfev: 12\n",
              "      nit: 1\n",
              "   status: 0\n",
              "  success: True\n",
              "        x: array([-7.87029712,  5.56508921,  1.62884103])\n",
              "                    message: ['requested number of basinhopping iterations completed successfully']\n",
              "      minimization_failures: 0\n",
              "                       nfev: 1576\n",
              "                        nit: 100\n",
              "                          x: array([-7.87029712,  5.56508921,  1.62884103])"
            ]
          },
          "metadata": {
            "tags": []
          },
          "execution_count": 182
        }
      ]
    },
    {
      "cell_type": "code",
      "metadata": {
        "colab": {
          "base_uri": "https://localhost:8080/"
        },
        "id": "zqVHB6UCjZQO",
        "outputId": "19672c4e-4665-4a9f-8ceb-b07519afb4e1"
      },
      "source": [
        "print(opt.success)"
      ],
      "execution_count": 118,
      "outputs": [
        {
          "output_type": "stream",
          "text": [
            "False\n"
          ],
          "name": "stdout"
        }
      ]
    },
    {
      "cell_type": "code",
      "metadata": {
        "colab": {
          "base_uri": "https://localhost:8080/"
        },
        "id": "ET7FJ84AnEvC",
        "outputId": "eeb7856c-c147-4bdf-a2a6-7a466aea7fe3"
      },
      "source": [
        "opt.x"
      ],
      "execution_count": 112,
      "outputs": [
        {
          "output_type": "execute_result",
          "data": {
            "text/plain": [
              "array([0.11635573, 1.        , 0.00590734])"
            ]
          },
          "metadata": {
            "tags": []
          },
          "execution_count": 112
        }
      ]
    },
    {
      "cell_type": "code",
      "metadata": {
        "colab": {
          "base_uri": "https://localhost:8080/",
          "height": 282
        },
        "id": "BrKKMnkkqWwR",
        "outputId": "d3a2ce2f-3ae3-4e8d-98d6-f6caad690fc8"
      },
      "source": [
        "res_df, t = model1_standardized(opt.x,T=500)\r\n",
        "plt.plot(res_df[:,1]+res_df[:,3])"
      ],
      "execution_count": 113,
      "outputs": [
        {
          "output_type": "execute_result",
          "data": {
            "text/plain": [
              "[<matplotlib.lines.Line2D at 0x7f5b74064128>]"
            ]
          },
          "metadata": {
            "tags": []
          },
          "execution_count": 113
        },
        {
          "output_type": "display_data",
          "data": {
            "image/png": "[encoded data removed]",
            "text/plain": [
              "<Figure size 432x288 with 1 Axes>"
            ]
          },
          "metadata": {
            "tags": [],
            "needs_background": "light"
          }
        }
      ]
    },
    {
      "cell_type": "markdown",
      "metadata": {
        "id": "tMP5vVXAL1LN"
      },
      "source": [
        ""
      ]
    }
  ]
}