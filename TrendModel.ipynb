{
  "nbformat": 4,
  "nbformat_minor": 0,
  "metadata": {
    "colab": {
      "name": "TrendModel.ipynb",
      "provenance": [],
      "collapsed_sections": [],
      "authorship_tag": "ABX9TyNqfRQkyMTTr/8n317R3pf+",
      "include_colab_link": true
    },
    "kernelspec": {
      "name": "python3",
      "display_name": "Python 3"
    }
  },
  "cells": [
    {
      "cell_type": "markdown",
      "metadata": {
        "id": "view-in-github",
        "colab_type": "text"
      },
      "source": [
        "<a href=\"https://colab.research.google.com/github/ShuichiroTsuda/TrendModel/blob/main/TrendModel.ipynb\" target=\"_parent\"><img src=\"https://colab.research.google.com/assets/colab-badge.svg\" alt=\"Open In Colab\"/></a>"
      ]
    },
    {
      "cell_type": "code",
      "metadata": {
        "colab": {
          "base_uri": "https://localhost:8080/"
        },
        "id": "SI6Zm_BDUnmF",
        "outputId": "4b90cc62-f4ec-472f-f085-85efbd9acd02"
      },
      "source": [
        "!pip install pytrends"
      ],
      "execution_count": 1,
      "outputs": [
        {
          "output_type": "stream",
          "text": [
            "Collecting pytrends\n",
            "  Downloading https://files.pythonhosted.org/packages/96/53/a4a74c33bfdbe1740183e00769377352072e64182913562daf9f5e4f1938/pytrends-4.7.3-py3-none-any.whl\n",
            "Requirement already satisfied: lxml in /usr/local/lib/python3.6/dist-packages (from pytrends) (4.2.6)\n",
            "Requirement already satisfied: pandas>=0.25 in /usr/local/lib/python3.6/dist-packages (from pytrends) (1.1.5)\n",
            "Requirement already satisfied: requests in /usr/local/lib/python3.6/dist-packages (from pytrends) (2.23.0)\n",
            "Requirement already satisfied: pytz>=2017.2 in /usr/local/lib/python3.6/dist-packages (from pandas>=0.25->pytrends) (2018.9)\n",
            "Requirement already satisfied: python-dateutil>=2.7.3 in /usr/local/lib/python3.6/dist-packages (from pandas>=0.25->pytrends) (2.8.1)\n",
            "Requirement already satisfied: numpy>=1.15.4 in /usr/local/lib/python3.6/dist-packages (from pandas>=0.25->pytrends) (1.19.4)\n",
            "Requirement already satisfied: urllib3!=1.25.0,!=1.25.1,<1.26,>=1.21.1 in /usr/local/lib/python3.6/dist-packages (from requests->pytrends) (1.24.3)\n",
            "Requirement already satisfied: idna<3,>=2.5 in /usr/local/lib/python3.6/dist-packages (from requests->pytrends) (2.10)\n",
            "Requirement already satisfied: certifi>=2017.4.17 in /usr/local/lib/python3.6/dist-packages (from requests->pytrends) (2020.12.5)\n",
            "Requirement already satisfied: chardet<4,>=3.0.2 in /usr/local/lib/python3.6/dist-packages (from requests->pytrends) (3.0.4)\n",
            "Requirement already satisfied: six>=1.5 in /usr/local/lib/python3.6/dist-packages (from python-dateutil>=2.7.3->pandas>=0.25->pytrends) (1.15.0)\n",
            "Installing collected packages: pytrends\n",
            "Successfully installed pytrends-4.7.3\n"
          ],
          "name": "stdout"
        }
      ]
    },
    {
      "cell_type": "code",
      "metadata": {
        "id": "JhFpNHxmVWPA"
      },
      "source": [
        "import pandas as pd                        \n",
        "from pytrends.request import TrendReq\n",
        "import numpy as np\n",
        "from scipy.optimize import minimize, basinhopping\n",
        "import matplotlib.pyplot as plt\n",
        "import pandas as pd\n",
        "\n",
        "%matplotlib inline\n",
        "\n",
        "pytrend = TrendReq(hl='ja-jp')"
      ],
      "execution_count": 2,
      "outputs": []
    },
    {
      "cell_type": "markdown",
      "metadata": {
        "id": "N_fUdcn5VSC0"
      },
      "source": [
        "## データダウンロード\n"
      ]
    },
    {
      "cell_type": "code",
      "metadata": {
        "id": "WXTP0mcvVY4O"
      },
      "source": [
        "keywords = ['倍返しだ']\n",
        "pytrend.build_payload(kw_list=keywords, timeframe='2013-06-01 2014-06-30')\n",
        "df = pd.DataFrame(pytrend.interest_over_time())"
      ],
      "execution_count": null,
      "outputs": []
    },
    {
      "cell_type": "code",
      "metadata": {
        "id": "CGLEE3znj97M"
      },
      "source": [
        "keywords = ['君の名は']\n",
        "pytrend.build_payload(kw_list=keywords, timeframe='2016-08-12 2016-12-01')\n",
        "df = pd.DataFrame(pytrend.interest_over_time())"
      ],
      "execution_count": 43,
      "outputs": []
    },
    {
      "cell_type": "code",
      "metadata": {
        "id": "iws3PYjPfjnu"
      },
      "source": [
        "df[\"rolling\"] = df['君の名は'].rolling(12).mean()\n",
        "df = df.dropna(subset=['rolling'])"
      ],
      "execution_count": 44,
      "outputs": []
    },
    {
      "cell_type": "code",
      "metadata": {
        "id": "wSlbysrBgBQs"
      },
      "source": [
        "df['rolling'] = df['rolling'] / np.max(df['rolling'])"
      ],
      "execution_count": 45,
      "outputs": []
    },
    {
      "cell_type": "code",
      "metadata": {
        "colab": {
          "base_uri": "https://localhost:8080/",
          "height": 445
        },
        "id": "ufkRfxsFWF4p",
        "outputId": "4b221bba-5ce5-4b1a-9c9d-2afd11c7cd15"
      },
      "source": [
        "df"
      ],
      "execution_count": 46,
      "outputs": [
        {
          "output_type": "execute_result",
          "data": {
            "text/html": [
              "<div>\n",
              "<style scoped>\n",
              "    .dataframe tbody tr th:only-of-type {\n",
              "        vertical-align: middle;\n",
              "    }\n",
              "\n",
              "    .dataframe tbody tr th {\n",
              "        vertical-align: top;\n",
              "    }\n",
              "\n",
              "    .dataframe thead th {\n",
              "        text-align: right;\n",
              "    }\n",
              "</style>\n",
              "<table border=\"1\" class=\"dataframe\">\n",
              "  <thead>\n",
              "    <tr style=\"text-align: right;\">\n",
              "      <th></th>\n",
              "      <th>君の名は</th>\n",
              "      <th>isPartial</th>\n",
              "      <th>rolling</th>\n",
              "    </tr>\n",
              "    <tr>\n",
              "      <th>date</th>\n",
              "      <th></th>\n",
              "      <th></th>\n",
              "      <th></th>\n",
              "    </tr>\n",
              "  </thead>\n",
              "  <tbody>\n",
              "    <tr>\n",
              "      <th>2016-08-23</th>\n",
              "      <td>17</td>\n",
              "      <td>False</td>\n",
              "      <td>0.133413</td>\n",
              "    </tr>\n",
              "    <tr>\n",
              "      <th>2016-08-24</th>\n",
              "      <td>19</td>\n",
              "      <td>False</td>\n",
              "      <td>0.150240</td>\n",
              "    </tr>\n",
              "    <tr>\n",
              "      <th>2016-08-25</th>\n",
              "      <td>24</td>\n",
              "      <td>False</td>\n",
              "      <td>0.173077</td>\n",
              "    </tr>\n",
              "    <tr>\n",
              "      <th>2016-08-26</th>\n",
              "      <td>68</td>\n",
              "      <td>False</td>\n",
              "      <td>0.247596</td>\n",
              "    </tr>\n",
              "    <tr>\n",
              "      <th>2016-08-27</th>\n",
              "      <td>82</td>\n",
              "      <td>False</td>\n",
              "      <td>0.337740</td>\n",
              "    </tr>\n",
              "    <tr>\n",
              "      <th>...</th>\n",
              "      <td>...</td>\n",
              "      <td>...</td>\n",
              "      <td>...</td>\n",
              "    </tr>\n",
              "    <tr>\n",
              "      <th>2016-11-27</th>\n",
              "      <td>26</td>\n",
              "      <td>False</td>\n",
              "      <td>0.313702</td>\n",
              "    </tr>\n",
              "    <tr>\n",
              "      <th>2016-11-28</th>\n",
              "      <td>24</td>\n",
              "      <td>False</td>\n",
              "      <td>0.320913</td>\n",
              "    </tr>\n",
              "    <tr>\n",
              "      <th>2016-11-29</th>\n",
              "      <td>18</td>\n",
              "      <td>False</td>\n",
              "      <td>0.320913</td>\n",
              "    </tr>\n",
              "    <tr>\n",
              "      <th>2016-11-30</th>\n",
              "      <td>14</td>\n",
              "      <td>False</td>\n",
              "      <td>0.317308</td>\n",
              "    </tr>\n",
              "    <tr>\n",
              "      <th>2016-12-01</th>\n",
              "      <td>18</td>\n",
              "      <td>False</td>\n",
              "      <td>0.304087</td>\n",
              "    </tr>\n",
              "  </tbody>\n",
              "</table>\n",
              "<p>101 rows × 3 columns</p>\n",
              "</div>"
            ],
            "text/plain": [
              "            君の名は  isPartial   rolling\n",
              "date                                 \n",
              "2016-08-23    17      False  0.133413\n",
              "2016-08-24    19      False  0.150240\n",
              "2016-08-25    24      False  0.173077\n",
              "2016-08-26    68      False  0.247596\n",
              "2016-08-27    82      False  0.337740\n",
              "...          ...        ...       ...\n",
              "2016-11-27    26      False  0.313702\n",
              "2016-11-28    24      False  0.320913\n",
              "2016-11-29    18      False  0.320913\n",
              "2016-11-30    14      False  0.317308\n",
              "2016-12-01    18      False  0.304087\n",
              "\n",
              "[101 rows x 3 columns]"
            ]
          },
          "metadata": {
            "tags": []
          },
          "execution_count": 46
        }
      ]
    },
    {
      "cell_type": "code",
      "metadata": {
        "colab": {
          "base_uri": "https://localhost:8080/",
          "height": 282
        },
        "id": "ctavD-psaADK",
        "outputId": "5cd0e932-0fd8-4e7e-b268-977cc7ca7293"
      },
      "source": [
        "plt.plot(df['rolling'])\n"
      ],
      "execution_count": 47,
      "outputs": [
        {
          "output_type": "execute_result",
          "data": {
            "text/plain": [
              "[<matplotlib.lines.Line2D at 0x7f7584baf828>]"
            ]
          },
          "metadata": {
            "tags": []
          },
          "execution_count": 47
        },
        {
          "output_type": "display_data",
          "data": {
            "image/png": "[encoded data removed]",
            "text/plain": [
              "<Figure size 432x288 with 1 Axes>"
            ]
          },
          "metadata": {
            "tags": [],
            "needs_background": "light"
          }
        }
      ]
    },
    {
      "cell_type": "markdown",
      "metadata": {
        "id": "ZAofR_w93riX"
      },
      "source": [
        "## モデル定義"
      ]
    },
    {
      "cell_type": "code",
      "metadata": {
        "id": "by0FNwnXcbZV"
      },
      "source": [
        "def model1(pars, T, DT=1E-2, init = (1.0, 0., 0.0, 0.)):\n",
        "    def model1_diff(Y):\n",
        "        y1, y2, y3, y4 = Y\n",
        "        return np.array([-pars[0]*y1, pars[0]*y1-(pars[1]+pars[2])*y2, pars[1]*y2, pars[2]*y2])\n",
        "    # 時点集合\n",
        "    t_set = np.linspace(0.0, T, int(T/DT) + 1)\n",
        "    # SIRの各状態を格納する行列\n",
        "    X = np.zeros((len(t_set),4),dtype='float')\n",
        "    # 初期値から順に増分を加えることで状態変数を生成\n",
        "    X[0] = init\n",
        "    for tid, f in enumerate(t_set[:-1]):\n",
        "        X[tid+1] = X[tid] + model1_diff(X[tid])*DT\n",
        "    return X, t_set"
      ],
      "execution_count": 48,
      "outputs": []
    },
    {
      "cell_type": "code",
      "metadata": {
        "id": "b9TAA9UWKy0n"
      },
      "source": [
        "def model1_standardized(pars, T, DT=1E-2, init = (0.97, 0.01, 0.01, 0.01)):\n",
        "    def model1_diff(Y):\n",
        "        y1, y2, y3, y4 = Y\n",
        "        return np.array([-pars[0]*y1, pars[0]*y1-(pars[1]+pars[2])*y2, pars[1]*y2, pars[2]*y2])\n",
        "    # 時点集合\n",
        "    t_set = np.linspace(0.0, T, int(T/DT) + 1)\n",
        "    # SIRの各状態を格納する行列\n",
        "    X = np.zeros((len(t_set),4),dtype='float')\n",
        "    # 初期値から順に増分を加えることで状態変数を生成\n",
        "    X[0] = init\n",
        "    for tid, f in enumerate(t_set[:-1]):\n",
        "        X[tid+1] = X[tid] + model1_diff(X[tid])*DT\n",
        "    X = X / np.max(X[:,1]+X[:,3])\n",
        "    return X, t_set"
      ],
      "execution_count": 49,
      "outputs": []
    },
    {
      "cell_type": "code",
      "metadata": {
        "id": "JFolRrxJtL2i"
      },
      "source": [
        "def model2(pars, T, DT=1E-2, init = (1.0, 0., 0.0, 0.)):\r\n",
        "    def model1_diff(Y):\r\n",
        "        y1, y2, y3, y4 = Y\r\n",
        "        return np.array([-pars[0]*y1*y2, pars[0]*y1*y2-(pars[1]+pars[2])*y2, pars[1]*y2, pars[2]*y2])\r\n",
        "    # 時点集合\r\n",
        "    t_set = np.linspace(0.0, T, int(T/DT) + 1)\r\n",
        "    # SIRの各状態を格納する行列\r\n",
        "    X = np.zeros((len(t_set),4),dtype='float')\r\n",
        "    # 初期値から順に増分を加えることで状態変数を生成\r\n",
        "    X[0] = init\r\n",
        "    for tid, f in enumerate(t_set[:-1]):\r\n",
        "        X[tid+1] = X[tid] + model1_diff(X[tid])*DT\r\n",
        "    return X, t_set"
      ],
      "execution_count": 50,
      "outputs": []
    },
    {
      "cell_type": "code",
      "metadata": {
        "id": "Gw6jOigZLMu0"
      },
      "source": [
        "def model2_standardized(pars, T, DT=1E-2, init = (0.97, 0.01, 0.01, 0.01)):\n",
        "    def model1_diff(Y):\n",
        "        y1, y2, y3, y4 = Y\n",
        "        return np.array([-pars[0]*y1*y2, pars[0]*y1*y2-(pars[1]+pars[2])*y2, pars[1]*y2, pars[2]*y2])\n",
        "    # 時点集合\n",
        "    t_set = np.linspace(0.0, T, int(T/DT) + 1)\n",
        "    # SIRの各状態を格納する行列\n",
        "    X = np.zeros((len(t_set),4),dtype='float')\n",
        "    # 初期値から順に増分を加えることで状態変数を生成\n",
        "    X[0] = init\n",
        "    for tid, f in enumerate(t_set[:-1]):\n",
        "        X[tid+1] = X[tid] + model1_diff(X[tid])*DT\n",
        "    X = X / np.max(X[:,1]+X[:,3])\n",
        "    return X, t_set"
      ],
      "execution_count": 51,
      "outputs": []
    },
    {
      "cell_type": "markdown",
      "metadata": {
        "id": "s4wmDinW30-x"
      },
      "source": [
        "## 二乗平均誤差"
      ]
    },
    {
      "cell_type": "code",
      "metadata": {
        "id": "aVVrMfVqL1ew"
      },
      "source": [
        "def rmse1(pars,obs):\r\n",
        "    Y, t_set = model1_standardized(pars, len(obs))\r\n",
        "    Y = Y[t_set >= 1]\r\n",
        "    t_set = t_set[t_set>=1]\r\n",
        "    y1 = Y[t_set%1==0, 0]\r\n",
        "    y2 = Y[t_set%1==0, 1]\r\n",
        "    y3 = Y[t_set%1==0, 2]\r\n",
        "    y4 = Y[t_set%1==0, 3]\r\n",
        "    ret = np.sqrt(np.average((obs - y2 - y4)**2))\r\n",
        "    return ret"
      ],
      "execution_count": 52,
      "outputs": []
    },
    {
      "cell_type": "code",
      "metadata": {
        "id": "mq0jayNJtizL"
      },
      "source": [
        "def rmse2(pars,obs):\r\n",
        "    Y, t_set = model2_standardized(pars, len(obs))\r\n",
        "    Y = Y[t_set >= 1]\r\n",
        "    t_set = t_set[t_set>=1]\r\n",
        "    y1 = Y[t_set%1==0, 0]\r\n",
        "    y2 = Y[t_set%1==0, 1]\r\n",
        "    y3 = Y[t_set%1==0, 2]\r\n",
        "    y4 = Y[t_set%1==0, 3]\r\n",
        "    ret = np.sqrt(np.average((obs - y2 - y4)**2))\r\n",
        "    return ret"
      ],
      "execution_count": 53,
      "outputs": []
    },
    {
      "cell_type": "markdown",
      "metadata": {
        "id": "yyyUb5Ex_3MK"
      },
      "source": [
        "## フィッティング"
      ]
    },
    {
      "cell_type": "markdown",
      "metadata": {
        "id": "A-N2KPK3aEs0"
      },
      "source": [
        "### モデル１"
      ]
    },
    {
      "cell_type": "code",
      "metadata": {
        "id": "1NDvSXXUeSF4"
      },
      "source": [
        "data = df['rolling']"
      ],
      "execution_count": 54,
      "outputs": []
    },
    {
      "cell_type": "code",
      "metadata": {
        "colab": {
          "base_uri": "https://localhost:8080/"
        },
        "id": "oMAMKSpZamxq",
        "outputId": "1af971e2-19d1-4a91-bb2a-f67b57dfe34e"
      },
      "source": [
        "data = df['rolling']\r\n",
        "opt1 = basinhopping(rmse1, [2.0, 0.01, 0.01], minimizer_kwargs={\"args\": data, \"method\": \"L-BFGS-B\"})\r\n",
        "print(opt1)"
      ],
      "execution_count": 56,
      "outputs": [
        {
          "output_type": "stream",
          "text": [
            "/usr/local/lib/python3.6/dist-packages/ipykernel_launcher.py:4: RuntimeWarning: overflow encountered in double_scalars\n",
            "  after removing the cwd from sys.path.\n",
            "/usr/local/lib/python3.6/dist-packages/ipykernel_launcher.py:4: RuntimeWarning: invalid value encountered in double_scalars\n",
            "  after removing the cwd from sys.path.\n"
          ],
          "name": "stderr"
        },
        {
          "output_type": "stream",
          "text": [
            "                        fun: 0.0624803478550658\n",
            " lowest_optimization_result:       fun: 0.0624803478550658\n",
            " hess_inv: <3x3 LbfgsInvHessProduct with dtype=float64>\n",
            "      jac: array([-1.50920942e-06, -1.40651379e-06, -6.59194921e-06])\n",
            "  message: b'CONVERGENCE: NORM_OF_PROJECTED_GRADIENT_<=_PGTOL'\n",
            "     nfev: 272\n",
            "      nit: 44\n",
            "   status: 0\n",
            "  success: True\n",
            "        x: array([0.05155154, 0.03954796, 0.00213671])\n",
            "                    message: ['requested number of basinhopping iterations completed successfully']\n",
            "      minimization_failures: 0\n",
            "                       nfev: 2844\n",
            "                        nit: 100\n",
            "                          x: array([0.05155154, 0.03954796, 0.00213671])\n"
          ],
          "name": "stdout"
        }
      ]
    },
    {
      "cell_type": "code",
      "metadata": {
        "colab": {
          "base_uri": "https://localhost:8080/",
          "height": 265
        },
        "id": "Q2QsKtNYAoab",
        "outputId": "52aee2dd-f0b4-4480-eee0-14fa3deb4adf"
      },
      "source": [
        "T = len(data)\n",
        "X1, t_set = model1_standardized(opt.x, T)\n",
        "fig, ax = plt.subplots()\n",
        "labels = [\"y1\", \"y2\", \"y3\", \"y4\"]\n",
        "for i in range(4):\n",
        "    ax.plot(X1[:,i], label=labels[i])"
      ],
      "execution_count": 33,
      "outputs": [
        {
          "output_type": "display_data",
          "data": {
            "image/png": "[encoded data removed]",
            "text/plain": [
              "<Figure size 432x288 with 1 Axes>"
            ]
          },
          "metadata": {
            "tags": [],
            "needs_background": "light"
          }
        }
      ]
    },
    {
      "cell_type": "code",
      "metadata": {
        "colab": {
          "base_uri": "https://localhost:8080/",
          "height": 282
        },
        "id": "3geYptORmJ2F",
        "outputId": "55010e74-9907-4787-d517-b28e952d1c04"
      },
      "source": [
        "plt.plot(t_set ,X1[:,1]+X1[:,3])\r\n",
        "plt.plot(pd.RangeIndex(start=0, stop=len(data.index), step=1),data)"
      ],
      "execution_count": 37,
      "outputs": [
        {
          "output_type": "execute_result",
          "data": {
            "text/plain": [
              "[<matplotlib.lines.Line2D at 0x7f757cfe8240>]"
            ]
          },
          "metadata": {
            "tags": []
          },
          "execution_count": 37
        },
        {
          "output_type": "display_data",
          "data": {
            "image/png": "[encoded data removed]",
            "text/plain": [
              "<Figure size 432x288 with 1 Axes>"
            ]
          },
          "metadata": {
            "tags": [],
            "needs_background": "light"
          }
        }
      ]
    },
    {
      "cell_type": "markdown",
      "metadata": {
        "id": "UE1C9bf3prwh"
      },
      "source": [
        "### モデル2"
      ]
    },
    {
      "cell_type": "markdown",
      "metadata": {
        "id": "F_x-YWS_prlL"
      },
      "source": [
        ""
      ]
    },
    {
      "cell_type": "code",
      "metadata": {
        "id": "bJLsgrGNWQvO",
        "colab": {
          "base_uri": "https://localhost:8080/"
        },
        "outputId": "cdb5be4b-3b51-4798-dc52-4775217b6b66"
      },
      "source": [
        "opt2 = basinhopping(rmse2, [2.0, 0.01, 0.01], minimizer_kwargs={\"args\": data, \"method\": \"L-BFGS-B\"})\n",
        "print(opt2)"
      ],
      "execution_count": 16,
      "outputs": [
        {
          "output_type": "stream",
          "text": [
            "/usr/local/lib/python3.6/dist-packages/ipykernel_launcher.py:4: RuntimeWarning: overflow encountered in double_scalars\n",
            "  after removing the cwd from sys.path.\n",
            "/usr/local/lib/python3.6/dist-packages/ipykernel_launcher.py:13: RuntimeWarning: invalid value encountered in add\n",
            "  del sys.path[0]\n",
            "/usr/local/lib/python3.6/dist-packages/scipy/optimize/optimize.py:697: RuntimeWarning: invalid value encountered in double_scalars\n",
            "  df = (f(*((xk + d,) + args)) - f0) / d[k]\n",
            "/usr/local/lib/python3.6/dist-packages/scipy/optimize/_basinhopping.py:313: RuntimeWarning: invalid value encountered in double_scalars\n",
            "  w = math.exp(min(0, -float(energy_new - energy_old) * self.beta))\n"
          ],
          "name": "stderr"
        }
      ]
    },
    {
      "cell_type": "code",
      "metadata": {
        "colab": {
          "base_uri": "https://localhost:8080/",
          "height": 282
        },
        "id": "lPVBr45wAw7x",
        "outputId": "3abd81f3-6cdb-4e03-d00a-ad31c361e045"
      },
      "source": [
        "plt.plot(X[:,1]+X[:,3])"
      ],
      "execution_count": 19,
      "outputs": [
        {
          "output_type": "execute_result",
          "data": {
            "text/plain": [
              "[<matplotlib.lines.Line2D at 0x7f7584c7ba20>]"
            ]
          },
          "metadata": {
            "tags": []
          },
          "execution_count": 19
        },
        {
          "output_type": "display_data",
          "data": {
            "image/png": "[encoded data removed]",
            "text/plain": [
              "<Figure size 432x288 with 1 Axes>"
            ]
          },
          "metadata": {
            "tags": [],
            "needs_background": "light"
          }
        }
      ]
    },
    {
      "cell_type": "code",
      "metadata": {
        "colab": {
          "base_uri": "https://localhost:8080/",
          "height": 265
        },
        "id": "BdnvlneVQ9Ad",
        "outputId": "ad966997-6545-4ac9-87c2-a3f4e73c3897"
      },
      "source": [
        "pars = [0.05005318, 0.03852589, 0.00144769]\r\n",
        "#pars = [ 2.623176 , 5.11777424, 20.04359523]\r\n",
        "T = 50\r\n",
        "X, t_set = model1_standardized(pars, T)\r\n",
        "fig, ax = plt.subplots()\r\n",
        "labels = [\"y1\", \"y2\", \"y3\", \"y4\"]\r\n",
        "for i in range(4):\r\n",
        "    ax.plot(X[:,i], label=labels[i])"
      ],
      "execution_count": 23,
      "outputs": [
        {
          "output_type": "display_data",
          "data": {
            "image/png": "[encoded data removed]",
            "text/plain": [
              "<Figure size 432x288 with 1 Axes>"
            ]
          },
          "metadata": {
            "tags": [],
            "needs_background": "light"
          }
        }
      ]
    },
    {
      "cell_type": "code",
      "metadata": {
        "colab": {
          "base_uri": "https://localhost:8080/",
          "height": 282
        },
        "id": "Xk1mmpvGpW4z",
        "outputId": "92d32bc8-f836-4517-af6e-6ca198884bf2"
      },
      "source": [
        "plt.plot(X[:,1]+X[:,3])"
      ],
      "execution_count": 24,
      "outputs": [
        {
          "output_type": "execute_result",
          "data": {
            "text/plain": [
              "[<matplotlib.lines.Line2D at 0x7f7584bd3dd8>]"
            ]
          },
          "metadata": {
            "tags": []
          },
          "execution_count": 24
        },
        {
          "output_type": "display_data",
          "data": {
            "image/png": "[encoded data removed]",
            "text/plain": [
              "<Figure size 432x288 with 1 Axes>"
            ]
          },
          "metadata": {
            "tags": [],
            "needs_background": "light"
          }
        }
      ]
    },
    {
      "cell_type": "code",
      "metadata": {
        "colab": {
          "base_uri": "https://localhost:8080/",
          "height": 265
        },
        "id": "wqhtY-rs5GJp",
        "outputId": "f42f503b-e737-487b-e59d-b12285062001"
      },
      "source": [
        "pars = [7.146819,  0.02392529, 0.0319135]\n",
        "#pars = [ 2.623176 , 5.11777424, 20.04359523]\n",
        "T = 5\n",
        "X, t_set = model2_standardized(pars, T)\n",
        "fig, ax = plt.subplots()\n",
        "labels = [\"y1\", \"y2\", \"y3\", \"y4\"]\n",
        "for i in range(4):\n",
        "    ax.plot(X[:,i], label=labels[i])"
      ],
      "execution_count": null,
      "outputs": [
        {
          "output_type": "display_data",
          "data": {
            "image/png": "[encoded data removed]",
            "text/plain": [
              "<Figure size 432x288 with 1 Axes>"
            ]
          },
          "metadata": {
            "tags": [],
            "needs_background": "light"
          }
        }
      ]
    },
    {
      "cell_type": "code",
      "metadata": {
        "colab": {
          "base_uri": "https://localhost:8080/",
          "height": 282
        },
        "id": "uUIy_iHR6Tjp",
        "outputId": "345a568c-e884-471e-b4dc-b13d32041104"
      },
      "source": [
        "plt.plot(X[:,1]+X[:,3])"
      ],
      "execution_count": null,
      "outputs": [
        {
          "output_type": "execute_result",
          "data": {
            "text/plain": [
              "[<matplotlib.lines.Line2D at 0x7f0e03416080>]"
            ]
          },
          "metadata": {
            "tags": []
          },
          "execution_count": 216
        },
        {
          "output_type": "display_data",
          "data": {
            "image/png": "[encoded data removed]",
            "text/plain": [
              "<Figure size 432x288 with 1 Axes>"
            ]
          },
          "metadata": {
            "tags": [],
            "needs_background": "light"
          }
        }
      ]
    },
    {
      "cell_type": "code",
      "metadata": {
        "id": "GOV6z4TAbiGJ"
      },
      "source": [
        "a = df['rolling']\r\n",
        "opt = minimize(rmse2, [0.1, 0.8, 0.01], args=(a))"
      ],
      "execution_count": null,
      "outputs": []
    },
    {
      "cell_type": "code",
      "metadata": {
        "colab": {
          "base_uri": "https://localhost:8080/"
        },
        "id": "qO4-YPhWmy_N",
        "outputId": "8e07df8e-0c4d-4d7c-837c-2a0528803def"
      },
      "source": [
        "opt"
      ],
      "execution_count": null,
      "outputs": [
        {
          "output_type": "execute_result",
          "data": {
            "text/plain": [
              "      fun: 0.2607786365900205\n",
              " hess_inv: array([[ 178501.48695209, -184120.30692113,  -47745.04823468],\n",
              "       [-184120.30692113,  189918.05848869,   49248.22959083],\n",
              "       [ -47745.04823468,   49248.22959083,   12771.86797659]])\n",
              "      jac: array([-4.20957804e-07,  4.32133675e-07, -3.53157520e-06])\n",
              "  message: 'Optimization terminated successfully.'\n",
              "     nfev: 110\n",
              "      nit: 21\n",
              "     njev: 22\n",
              "   status: 0\n",
              "  success: True\n",
              "        x: array([-3.537426  ,  4.55196085,  0.98341788])"
            ]
          },
          "metadata": {
            "tags": []
          },
          "execution_count": 196
        }
      ]
    },
    {
      "cell_type": "code",
      "metadata": {
        "colab": {
          "base_uri": "https://localhost:8080/"
        },
        "id": "g-Zw26IGYKEZ",
        "outputId": "e001aac3-3efd-4b24-a0a5-a3db9bae62c0"
      },
      "source": [
        "opt"
      ],
      "execution_count": null,
      "outputs": [
        {
          "output_type": "execute_result",
          "data": {
            "text/plain": [
              "                        fun: 0.26077863678444074\n",
              " lowest_optimization_result:       fun: 0.26077863678444074\n",
              " hess_inv: <3x3 LbfgsInvHessProduct with dtype=float64>\n",
              "      jac: array([ 9.43689571e-08, -1.05471187e-07,  7.93809463e-07])\n",
              "  message: b'CONVERGENCE: NORM_OF_PROJECTED_GRADIENT_<=_PGTOL'\n",
              "     nfev: 12\n",
              "      nit: 1\n",
              "   status: 0\n",
              "  success: True\n",
              "        x: array([-7.87029712,  5.56508921,  1.62884103])\n",
              "                    message: ['requested number of basinhopping iterations completed successfully']\n",
              "      minimization_failures: 0\n",
              "                       nfev: 1576\n",
              "                        nit: 100\n",
              "                          x: array([-7.87029712,  5.56508921,  1.62884103])"
            ]
          },
          "metadata": {
            "tags": []
          },
          "execution_count": 182
        }
      ]
    },
    {
      "cell_type": "code",
      "metadata": {
        "colab": {
          "base_uri": "https://localhost:8080/"
        },
        "id": "zqVHB6UCjZQO",
        "outputId": "19672c4e-4665-4a9f-8ceb-b07519afb4e1"
      },
      "source": [
        "print(opt.success)"
      ],
      "execution_count": null,
      "outputs": [
        {
          "output_type": "stream",
          "text": [
            "False\n"
          ],
          "name": "stdout"
        }
      ]
    },
    {
      "cell_type": "code",
      "metadata": {
        "colab": {
          "base_uri": "https://localhost:8080/"
        },
        "id": "ET7FJ84AnEvC",
        "outputId": "eeb7856c-c147-4bdf-a2a6-7a466aea7fe3"
      },
      "source": [
        "opt.x"
      ],
      "execution_count": null,
      "outputs": [
        {
          "output_type": "execute_result",
          "data": {
            "text/plain": [
              "array([0.11635573, 1.        , 0.00590734])"
            ]
          },
          "metadata": {
            "tags": []
          },
          "execution_count": 112
        }
      ]
    },
    {
      "cell_type": "code",
      "metadata": {
        "colab": {
          "base_uri": "https://localhost:8080/",
          "height": 282
        },
        "id": "BrKKMnkkqWwR",
        "outputId": "d3a2ce2f-3ae3-4e8d-98d6-f6caad690fc8"
      },
      "source": [
        "res_df, t = model1_standardized(opt.x,T=500)\r\n",
        "plt.plot(res_df[:,1]+res_df[:,3])"
      ],
      "execution_count": null,
      "outputs": [
        {
          "output_type": "execute_result",
          "data": {
            "text/plain": [
              "[<matplotlib.lines.Line2D at 0x7f5b74064128>]"
            ]
          },
          "metadata": {
            "tags": []
          },
          "execution_count": 113
        },
        {
          "output_type": "display_data",
          "data": {
            "image/png": "[encoded data removed]",
            "text/plain": [
              "<Figure size 432x288 with 1 Axes>"
            ]
          },
          "metadata": {
            "tags": [],
            "needs_background": "light"
          }
        }
      ]
    },
    {
      "cell_type": "markdown",
      "metadata": {
        "id": "tMP5vVXAL1LN"
      },
      "source": [
        ""
      ]
    }
  ]
}